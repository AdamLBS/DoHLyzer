{
 "cells": [
  {
   "cell_type": "code",
   "execution_count": 23,
   "metadata": {
    "collapsed": true,
    "pycharm": {
     "is_executing": false
    }
   },
   "outputs": [
    {
     "data": {
      "text/plain": "<Figure size 432x288 with 1 Axes>",
      "image/png": "[encoded data removed]"
     },
     "metadata": {
      "needs_background": "light"
     },
     "output_type": "display_data"
    }
   ],
   "source": [
    "import numpy as np\n",
    "import matplotlib.pyplot as plt\n",
    "\n",
    "fig1, ax1 = plt.subplots()\n",
    "ax1.set_title('Classification Results')\n",
    "\n",
    "labels = ['Layer1', 'Layer2']\n",
    "\n",
    "methods = ['Naive Bayes', 'SVM', 'C4.5', 'Random Forest']\n",
    "results_layer1 = [0.84, 0.877, 0.993, 0.993]\n",
    "results_layer2 = [0.836, 0.89, 0.999, 0.999]\n",
    "\n",
    "x_layer1 = range(1, 5)\n",
    "x_layer2 = range(7, 11)\n",
    "color = ['maroon', 'orange', 'green', 'blue']\n",
    "rects1 = ax1.bar(x=x_layer1, height=results_layer1, label=methods, width=1, color=color)\n",
    "rects2 = ax1.bar(x=x_layer2, height=results_layer2, label=methods, width=1, color=color)\n",
    "plt.ylim(0.6, 1.2)\n",
    "plt.xticks([2.5, 8.5], labels)\n",
    "\n",
    "def autolabel(rects):\n",
    "    \"\"\"Attach a text label above each bar in *rects*, displaying its height.\"\"\"\n",
    "    for rect in rects:\n",
    "        height = rect.get_height()\n",
    "        ax1.annotate('{}'.format(height),\n",
    "                    xy=(rect.get_x() + rect.get_width() / 2, height),\n",
    "                    xytext=(0, 3),  # 3 points vertical offset\n",
    "                    textcoords=\"offset points\",\n",
    "                    ha='center', va='bottom')\n",
    "\n",
    "ax1.legend(rects1.patches, methods, loc='upper right', ncol=2)\n",
    "autolabel(rects1)\n",
    "autolabel(rects2)\n",
    "    \n",
    "fig1.savefig('ml_results.png')"
   ]
  }
 ],
 "metadata": {
  "language_info": {
   "codemirror_mode": {
    "name": "ipython",
    "version": 2
   },
   "file_extension": ".py",
   "mimetype": "text/x-python",
   "name": "python",
   "nbconvert_exporter": "python",
   "pygments_lexer": "ipython2",
   "version": "2.7.6"
  },
  "kernelspec": {
   "name": "python3",
   "language": "python",
   "display_name": "Python 3"
  },
  "pycharm": {
   "stem_cell": {
    "cell_type": "raw",
    "source": [],
    "metadata": {
     "collapsed": false
    }
   }
  }
 },
 "nbformat": 4,
 "nbformat_minor": 0
}