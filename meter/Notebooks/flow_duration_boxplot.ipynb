{
 "cells": [
  {
   "cell_type": "code",
   "execution_count": 2,
   "metadata": {
    "collapsed": true,
    "pycharm": {
     "is_executing": false
    }
   },
   "outputs": [],
   "source": [
    "import csv\n",
    "\n",
    "def get_durations_list(file_path):\n",
    "    f = open(file_path, 'r')\n",
    "    reader = csv.DictReader(f)\n",
    "    \n",
    "    durations = []\n",
    "    for flow in reader:\n",
    "        durations.append(float(flow['Duration']))\n",
    "    \n",
    "    return durations"
   ]
  },
  {
   "cell_type": "code",
   "execution_count": 3,
   "outputs": [],
   "source": [
    "d1 = get_durations_list('/home/mohammadreza/Workspace/DoH/l1.csv')\n",
    "d2 = get_durations_list('/home/mohammadreza/Workspace/DoH/l2.csv')"
   ],
   "metadata": {
    "collapsed": false,
    "pycharm": {
     "name": "#%%\n",
     "is_executing": false
    }
   }
  },
  {
   "cell_type": "code",
   "execution_count": 4,
   "outputs": [
    {
     "data": {
      "text/plain": "{'whiskers': [<matplotlib.lines.Line2D at 0x7f03610d1a20>,\n  <matplotlib.lines.Line2D at 0x7f03610d1da0>,\n  <matplotlib.lines.Line2D at 0x7f03610ecf60>,\n  <matplotlib.lines.Line2D at 0x7f03610f5320>],\n 'caps': [<matplotlib.lines.Line2D at 0x7f03610ec160>,\n  <matplotlib.lines.Line2D at 0x7f03610ec4e0>,\n  <matplotlib.lines.Line2D at 0x7f03610f56a0>,\n  <matplotlib.lines.Line2D at 0x7f03610f5a20>],\n 'boxes': [<matplotlib.lines.Line2D at 0x7f03610d1710>,\n  <matplotlib.lines.Line2D at 0x7f03610ecbe0>],\n 'medians': [<matplotlib.lines.Line2D at 0x7f03610ec860>,\n  <matplotlib.lines.Line2D at 0x7f03610f5da0>],\n 'fliers': [],\n 'means': []}"
     },
     "metadata": {},
     "output_type": "execute_result",
     "execution_count": 4
    },
    {
     "data": {
      "text/plain": "<Figure size 432x288 with 1 Axes>",
      "image/png": "[encoded data removed]"
     },
     "metadata": {
      "needs_background": "light"
     },
     "output_type": "display_data"
    }
   ],
   "source": [
    "import numpy as np\n",
    "import matplotlib.pyplot as plt\n",
    "\n",
    "fig1, ax1 = plt.subplots()\n",
    "ax1.set_title('Flow Durations')\n",
    "ax1.boxplot([d1, d2], labels=['Layer 1', 'Layer 2'], showfliers=False)"
   ],
   "metadata": {
    "collapsed": false,
    "pycharm": {
     "name": "#%%\n",
     "is_executing": false
    }
   }
  },
  {
   "cell_type": "code",
   "execution_count": 5,
   "outputs": [],
   "source": [
    "output = open('./flow_duration_boxplot.png', 'wb')\n",
    "fig1.savefig(output)"
   ],
   "metadata": {
    "collapsed": false,
    "pycharm": {
     "name": "#%%\n",
     "is_executing": false
    }
   }
  },
  {
   "cell_type": "code",
   "execution_count": 6,
   "outputs": [
    {
     "name": "stdout",
     "text": [
      "L1 Duration Mean =  20.392734950555937\nL1 Duration Median =  1.3968085000000001\nL2 Duration Mean =  53.9244253223443\nL2 Duration Median =  34.06422\n"
     ],
     "output_type": "stream"
    }
   ],
   "source": [
    "print('L1 Duration Mean = ', np.mean(d1))\n",
    "print('L1 Duration Median = ', np.median(d1))\n",
    "print('L2 Duration Mean = ', np.mean(d2))\n",
    "print('L2 Duration Median = ', np.median(d2))"
   ],
   "metadata": {
    "collapsed": false,
    "pycharm": {
     "name": "#%%\n",
     "is_executing": false
    }
   }
  }
 ],
 "metadata": {
  "language_info": {
   "codemirror_mode": {
    "name": "ipython",
    "version": 2
   },
   "file_extension": ".py",
   "mimetype": "text/x-python",
   "name": "python",
   "nbconvert_exporter": "python",
   "pygments_lexer": "ipython2",
   "version": "2.7.6"
  },
  "kernelspec": {
   "name": "python3",
   "language": "python",
   "display_name": "Python 3"
  },
  "pycharm": {
   "stem_cell": {
    "cell_type": "raw",
    "source": [],
    "metadata": {
     "collapsed": false
    }
   }
  }
 },
 "nbformat": 4,
 "nbformat_minor": 0
}